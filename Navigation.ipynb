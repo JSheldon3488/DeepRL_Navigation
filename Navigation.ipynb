{
 "cells": [
  {
   "cell_type": "markdown",
   "metadata": {},
   "source": [
    "# Navigation\n",
    "\n",
    "---\n",
    "\n",
    "This notebook is a solution to the first project of the [Deep Reinforcement Learning Nanodegree](https://www.udacity.com/course/deep-reinforcement-learning-nanodegree--nd893).\n",
    "\n",
    "### 1. Start the Environment\n",
    "\n",
    "We begin by importing some necessary packages.  If the code cell below returns an error, please revisit the project instructions to double-check that you have installed [Unity ML-Agents](https://github.com/Unity-Technologies/ml-agents/blob/master/docs/Installation.md) and [NumPy](http://www.numpy.org/)."
   ]
  },
  {
   "cell_type": "code",
   "execution_count": 5,
   "metadata": {},
   "outputs": [],
   "source": [
    "from unityagents import UnityEnvironment\n",
    "from p1_navigation.agents import Agent\n",
    "import matplotlib.pyplot as plt\n",
    "import torch\n",
    "import numpy as np"
   ]
  },
  {
   "cell_type": "markdown",
   "metadata": {},
   "source": [
    "Next, we will start the environment!  **_Before running the code cell below_**, change the `file_name` parameter to match the location of the Unity environment that you downloaded.\n",
    "\n",
    "- **Mac**: `\"path/to/Banana.app\"`\n",
    "- **Windows** (x86): `\"path/to/Banana_Windows_x86/Banana.exe\"`\n",
    "- **Windows** (x86_64): `\"path/to/Banana_Windows_x86_64/Banana.exe\"`\n",
    "- **Linux** (x86): `\"path/to/Banana_Linux/Banana.x86\"`\n",
    "- **Linux** (x86_64): `\"path/to/Banana_Linux/Banana.x86_64\"`\n",
    "- **Linux** (x86, headless): `\"path/to/Banana_Linux_NoVis/Banana.x86\"`\n",
    "- **Linux** (x86_64, headless): `\"path/to/Banana_Linux_NoVis/Banana.x86_64\"`\n",
    "\n",
    "For instance, if you are using a Mac, then you downloaded `Banana.app`.  If this file is in the same folder as the notebook, then the line below should appear as follows:\n",
    "```\n",
    "env = UnityEnvironment(file_name=\"Banana.app\")\n",
    "```"
   ]
  },
  {
   "cell_type": "code",
   "execution_count": 6,
   "metadata": {},
   "outputs": [
    {
     "name": "stderr",
     "output_type": "stream",
     "text": [
      "INFO:unityagents:\n",
      "'Academy' started successfully!\n",
      "Unity Academy name: Academy\n",
      "        Number of Brains: 1\n",
      "        Number of External Brains : 1\n",
      "        Lesson number : 0\n",
      "        Reset Parameters :\n",
      "\t\t\n",
      "Unity brain name: BananaBrain\n",
      "        Number of Visual Observations (per agent): 0\n",
      "        Vector Observation space type: continuous\n",
      "        Vector Observation space size (per agent): 37\n",
      "        Number of stacked Vector Observation: 1\n",
      "        Vector Action space type: discrete\n",
      "        Vector Action space size (per agent): 4\n",
      "        Vector Action descriptions: , , , \n"
     ]
    }
   ],
   "source": [
    "env = UnityEnvironment(file_name=\"C:\\Dev\\Python\\RL\\deep-reinforcement-learning\\p1_navigation\\Banana_Windows_x86_64\\Banana.exe\")"
   ]
  },
  {
   "cell_type": "markdown",
   "metadata": {},
   "source": [
    "Environments contain **_brains_** which are responsible for deciding the actions of their associated agents. Here we check for the first brain available, and set it as the default brain we will be controlling from Python."
   ]
  },
  {
   "cell_type": "code",
   "execution_count": 7,
   "metadata": {},
   "outputs": [],
   "source": [
    "# get the default brain\n",
    "brain_name = env.brain_names[0]\n",
    "brain = env.brains[brain_name]"
   ]
  },
  {
   "cell_type": "markdown",
   "metadata": {},
   "source": [
    "### 2. Examine the State and Action Spaces\n",
    "\n",
    "The simulation contains a single agent that navigates a large environment.  At each time step, it has four actions at its disposal:\n",
    "- `0` - walk forward \n",
    "- `1` - walk backward\n",
    "- `2` - turn left\n",
    "- `3` - turn right\n",
    "\n",
    "The state space has `37` dimensions and contains the agent's velocity, along with ray-based perception of objects around agent's forward direction.  A reward of `+1` is provided for collecting a yellow banana, and a reward of `-1` is provided for collecting a blue banana. \n",
    "\n",
    "Run the code cell below to print some information about the environment."
   ]
  },
  {
   "cell_type": "code",
   "execution_count": 8,
   "metadata": {},
   "outputs": [
    {
     "name": "stdout",
     "output_type": "stream",
     "text": [
      "Number of agents: 1\n",
      "Number of actions: 4\n",
      "States look like: [1.         0.         0.         0.         0.84408134 0.\n",
      " 0.         1.         0.         0.0748472  0.         1.\n",
      " 0.         0.         0.25755    1.         0.         0.\n",
      " 0.         0.74177343 0.         1.         0.         0.\n",
      " 0.25854847 0.         0.         1.         0.         0.09355672\n",
      " 0.         1.         0.         0.         0.31969345 0.\n",
      " 0.        ]\n",
      "States have length: 37\n"
     ]
    }
   ],
   "source": [
    "# reset the environment\n",
    "env_info = env.reset(train_mode=True)[brain_name]\n",
    "\n",
    "# number of agents in the environment\n",
    "print('Number of agents:', len(env_info.agents))\n",
    "\n",
    "# number of actions\n",
    "action_size = brain.vector_action_space_size\n",
    "print('Number of actions:', action_size)\n",
    "\n",
    "# examine the state space \n",
    "state = env_info.vector_observations[0]\n",
    "print('States look like:', state)\n",
    "state_size = len(state)\n",
    "print('States have length:', state_size)"
   ]
  },
  {
   "cell_type": "markdown",
   "metadata": {},
   "source": [
    "### 3. Take Actions and learn in the Environment"
   ]
  },
  {
   "cell_type": "code",
   "execution_count": 9,
   "metadata": {},
   "outputs": [],
   "source": [
    "train = False\n",
    "\n",
    "def simulation(Agent, num_episodes=2000, eps_start=1.0, eps_end=0.005, eps_decay=0.995):\n",
    "    \"\"\"Run simulations in the environment and learn from the experiences. This will train the Agent.\n",
    "\n",
    "    :param Agent: (class) This is the class of Agent from agents.py that you want to use\n",
    "    :param num_episodes: (int) maximum number of training episodes\n",
    "    :param eps_start: (float) starting value of epsilon, for epsilon-greedy action selection\n",
    "    :param eps_end: (float) minimum value of epsilon\n",
    "    :param eps_decay: (float) multiplicative factor (per episode) for decreasing epsilon\n",
    "    :return: list of scores achieved over the simulation\n",
    "    \"\"\"\n",
    "    scores = []\n",
    "    eps = eps_start\n",
    "\n",
    "    for episode_num in range(1,num_episodes+1):\n",
    "        env_info = env.reset(train_mode=True)[brain_name]\n",
    "        state = env_info.vector_observations[0]\n",
    "        score = 0\n",
    "        while True:\n",
    "            action = int(Agent.act(state,eps))\n",
    "            env_info = env.step(action)[brain_name]\n",
    "            next_state = env_info.vector_observations[0]\n",
    "            reward = env_info.rewards[0]\n",
    "            done = env_info.local_done[0]\n",
    "            Agent.step(state, action, reward, next_state, done)\n",
    "            score += reward\n",
    "            state = next_state\n",
    "            if done:\n",
    "                break\n",
    "        # Episode finished\n",
    "        scores.append(score)\n",
    "        eps = max(eps*eps_decay, eps_end)\n",
    "        print(f\"Episode: {episode_num}, Score: {score}\")\n",
    "\n",
    "    # All episodes finished\n",
    "    torch.save(Agent.qnetwork_local.state_dict(), f\"C:\\Dev\\Python\\RL\\\\Navigation_Project\\p1_navigation\\checkpoints\\\\{Agent}.pth\")\n",
    "    #Save scores to file so we do not need to rerun the entire simulation\n",
    "    f = open(f\"C:\\Dev\\Python\\RL\\\\Navigation_Project\\p1_navigation\\saved_scores\\\\{Agent}.txt\", 'w')\n",
    "    s1 = '\\n'.join([str(s) for s in dqn_scores])\n",
    "    f.write(s1)\n",
    "    f.close()\n",
    "    return scores\n",
    "\n",
    "dqn_agent = Agent(state_size, action_size, 88)\n",
    "if train:\n",
    "    simulation(dqn_agent)\n",
    "env.close()"
   ]
  },
  {
   "cell_type": "markdown",
   "metadata": {},
   "source": [
    "### 4. Show the results."
   ]
  },
  {
   "cell_type": "code",
   "execution_count": 12,
   "metadata": {
    "pycharm": {
     "name": "#%%\n"
    }
   },
   "outputs": [
    {
     "data": {
      "text/plain": "<Figure size 432x288 with 1 Axes>",
      "image/png": "[encoded data removed]"
     },
     "metadata": {
      "needs_background": "light"
     },
     "output_type": "display_data"
    }
   ],
   "source": [
    "def graph_results(Agents, save_graph=True):\n",
    "    \"\"\" Used to graph the results of agents from simulations\n",
    "\n",
    "    :param agent_scores: list of Agents you want to graph results from\n",
    "    :param save_graph: bool used to save the graph in images\n",
    "    \"\"\"\n",
    "    # Load scores for given Agents\n",
    "    agent_scores = []\n",
    "    for agent in Agents:\n",
    "        with open(f\"C:\\Dev\\Python\\RL\\\\Navigation_Project\\p1_navigation\\saved_scores\\\\{agent}.txt\", 'r') as f:\n",
    "            scores = f.read().splitlines()\n",
    "            scores = [float(score) for score in scores]\n",
    "            agent_scores.append((str(agent), scores))\n",
    "\n",
    "    # Setup up graph\n",
    "    fig, ax = plt.subplots()\n",
    "    ax.set(xlabel=\"Episode #\", ylabel='Score', title=\"Navigation Agent Learning Rate\")\n",
    "    ax.grid()\n",
    "    save_name = \"\"\n",
    "    # Graph all the results\n",
    "    for name, score in agent_scores:\n",
    "        #Plot Scores\n",
    "        ax.plot(np.arange(len(score)), score, label=f\"{name}\")\n",
    "        save_name += f\"{name}_\"\n",
    "        # Plot rolling average\n",
    "        rolling_average = np.convolve(score, np.ones(100)/100)\n",
    "        rolling_average = rolling_average[:-100] #Removes tail that is window_size < 100\n",
    "        ax.plot(np.arange(len(rolling_average)), rolling_average, label=\"Average per 100 episodes\")\n",
    "    # Plot solved line\n",
    "    ax.plot(np.arange(len(agent_scores[0][1])), np.ones(len(agent_scores[0][1]))*13, color='black', linestyle='dashed', label=\"Solved\")\n",
    "    ax.legend()\n",
    "\n",
    "    if save_graph:\n",
    "        filepath = f\"C:\\Dev\\Python\\RL\\\\Navigation_Project\\p1_navigation\\images\\\\{save_name}.png\"\n",
    "        fig.savefig(filepath)\n",
    "    plt.show()\n",
    "\n",
    "graph_results([dqn_agent])"
   ]
  }
 ],
 "metadata": {
  "kernelspec": {
   "display_name": "Python 3",
   "language": "python",
   "name": "python3"
  },
  "language_info": {
   "codemirror_mode": {
    "name": "ipython",
    "version": 3
   },
   "file_extension": ".py",
   "mimetype": "text/x-python",
   "name": "python",
   "nbconvert_exporter": "python",
   "pygments_lexer": "ipython3",
   "version": "3.6.10"
  }
 },
 "nbformat": 4,
 "nbformat_minor": 2
}